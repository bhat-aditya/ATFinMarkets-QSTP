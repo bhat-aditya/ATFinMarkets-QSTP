{
 "cells": [
  {
   "cell_type": "code",
   "execution_count": 2,
   "id": "chicken-passing",
   "metadata": {},
   "outputs": [
    {
     "name": "stdout",
     "output_type": "stream",
     "text": [
      "Datatype: <class 'numpy.ndarray'>\n",
      "Shape of x: (3,) \n",
      "\n",
      "First element: 1\n",
      "Prining numpy array: [1 2 5]\n"
     ]
    }
   ],
   "source": [
    "import numpy as np\n",
    "\n",
    "'''\n",
    "Numpy is the core scientific programming module in python. It provides multi-dimensional array objects and tools for working\n",
    "with these array objects. \n",
    "'''\n",
    "\n",
    "# Arrays (Grid of values, indexed by tuple of +ve integers. No. of dimensions is the rank, shape is a tuple providing size) \n",
    "\n",
    "x = np.array([1, 2, 3])\n",
    "print(\"Datatype:\", type(x))\n",
    "print(\"Shape of x:\", x.shape, '\\n')\n",
    "print(\"First element:\", x[0])\n",
    "x[2] = 5\n",
    "print(\"Prining numpy array:\", x)"
   ]
  },
  {
   "cell_type": "code",
   "execution_count": 3,
   "id": "parliamentary-pendant",
   "metadata": {},
   "outputs": [
    {
     "name": "stdout",
     "output_type": "stream",
     "text": [
      "[[1 2 3]\n",
      " [4 5 6]]\n",
      "Shape of y: (2, 3) \n",
      "\n",
      "1st element of 1st array: 1\n",
      "1st element of 2nd array: 4\n"
     ]
    }
   ],
   "source": [
    "# 2D array - \n",
    "\n",
    "y = np.array([[1, 2, 3], [4, 5, 6]])\n",
    "print(y)\n",
    "print(\"Shape of y:\", y.shape, '\\n')\n",
    "print(\"1st element of 1st array:\", y[0, 0])\n",
    "print(\"1st element of 2nd array:\", y[1, 0])"
   ]
  },
  {
   "cell_type": "code",
   "execution_count": 4,
   "id": "united-edward",
   "metadata": {},
   "outputs": [
    {
     "name": "stdout",
     "output_type": "stream",
     "text": [
      "Creating 2x2 array of 0's: [[0. 0.]\n",
      " [0. 0.]] \n",
      "\n",
      "Creating 2x2 array of 1's: [[1. 1.]\n",
      " [1. 1.]] \n",
      "\n",
      "Creating 3x4 array of 7's: [[7 7 7 7]\n",
      " [7 7 7 7]\n",
      " [7 7 7 7]] \n",
      "\n",
      "Creating 3x3 identity matrix: [[1. 0. 0.]\n",
      " [0. 1. 0.]\n",
      " [0. 0. 1.]] \n",
      "\n",
      "Creating 2x2 array with random values: [[0.82904542 0.36205558]\n",
      " [0.87743864 0.76559209]]\n"
     ]
    }
   ],
   "source": [
    "# Numpy array creation functions -\n",
    "\n",
    "print(\"Creating 2x2 array of 0's:\", np.zeros((2, 2)), '\\n')\n",
    "print(\"Creating 2x2 array of 1's:\", np.ones((2, 2)), '\\n')\n",
    "print(\"Creating 3x4 array of 7's:\", np.full((3, 4), 7), '\\n')\n",
    "print(\"Creating 3x3 identity matrix:\", np.eye(3), '\\n')\n",
    "print(\"Creating 2x2 array with random values:\", np.random.random((2, 2)))"
   ]
  },
  {
   "cell_type": "code",
   "execution_count": 33,
   "id": "contained-anime",
   "metadata": {},
   "outputs": [
    {
     "name": "stdout",
     "output_type": "stream",
     "text": [
      "y array: [[ 1  2  3  4]\n",
      " [ 5  6  7  8]\n",
      " [ 9 10 11 12]]\n",
      "Sliced array: [[2 3]\n",
      " [6 7]] \n",
      "\n",
      "Rank 1 view of 2nd row of y: [5 6 7 8] Shape: (4,)\n",
      "Rank 2 view of 2nd row of y: [[5 6 7 8]] Shape: (1, 4)\n",
      "Rank 2 view of 2nd row of y: [[5 6 7 8]] Shape: (1, 4) \n",
      "\n",
      "1st column of y: [ 2  6 10] Shape: (3,)\n",
      "1st column of y: [[ 2]\n",
      " [ 6]\n",
      " [10]] Shape: (3, 1) \n",
      "\n"
     ]
    }
   ],
   "source": [
    "# Array indexing - \n",
    "\n",
    "y = np.array([[1, 2, 3, 4], [5, 6, 7, 8], [9, 10, 11, 12]])\n",
    "print(\"y array:\", y)\n",
    "print(\"Sliced array:\", y[:2, 1:3], '\\n') # pull first 2 rows and columns 2 and 3; i.e. [[2 3]  [6 7]]\n",
    "\n",
    "'''\n",
    "Two ways of accessing data in the middle row of the array - \n",
    "1. Mixing integer indexing with slicing yields an array of lower rank\n",
    "2. Using only slicing yields an array of the same rank as the\n",
    "'''\n",
    "\n",
    "print(\"Rank 1 view of 2nd row of y:\", y[1, :]  , \"Shape:\", y[1, :].shape)\n",
    "print(\"Rank 2 view of 2nd row of y:\", y[1:2, :], \"Shape:\", y[1:2, :].shape)\n",
    "print(\"Rank 2 view of 2nd row of y:\", y[[1], :], \"Shape:\", y[[1], :].shape, '\\n')\n",
    "\n",
    "print(\"1st column of y:\", y[:, 1]  , \"Shape:\", y[:, 1].shape)\n",
    "print(\"1st column of y:\", y[:, 1:2], \"Shape:\", y[:, 1:2].shape, '\\n')"
   ]
  },
  {
   "cell_type": "code",
   "execution_count": 5,
   "id": "organizational-alert",
   "metadata": {},
   "outputs": [
    {
     "name": "stdout",
     "output_type": "stream",
     "text": [
      "Boolean array where elements > 2: [[False False]\n",
      " [ True  True]\n",
      " [ True  True]] \n",
      "\n",
      "Rank 1 array where boolean array is True: [3 4 5 6]\n"
     ]
    }
   ],
   "source": [
    "# Boolean array indexing - \n",
    "\n",
    "z = np.array([[1, 2], [3, 4], [5, 6]])\n",
    "\n",
    "print(\"Boolean array where elements > 2:\", z > 2, '\\n')\n",
    "print(\"Rank 1 array where boolean array is True:\", z[z > 2])"
   ]
  },
  {
   "cell_type": "code",
   "execution_count": 6,
   "id": "rental-champagne",
   "metadata": {},
   "outputs": [
    {
     "name": "stdout",
     "output_type": "stream",
     "text": [
      "Datatypes: int32 float64 int64\n"
     ]
    }
   ],
   "source": [
    "# Datatypes\n",
    "\n",
    "k = np.array([1, 2])\n",
    "l = np.array([1.0, 2.0]) # Numpy automatically chooses\n",
    "m = np.array([1, 2], dtype = np.int64) # Force a particular datatype\n",
    "\n",
    "print(\"Datatypes:\", k.dtype, l.dtype, m.dtype)"
   ]
  },
  {
   "cell_type": "code",
   "execution_count": 7,
   "id": "everyday-texas",
   "metadata": {},
   "outputs": [
    {
     "name": "stdout",
     "output_type": "stream",
     "text": [
      "Numpy addition: [2. 4.]  Normal addition: [2. 4.] \n",
      "\n",
      "[1.41421356 1.73205081 2.         2.23606798 2.44948974] \n",
      "\n",
      "Dot product matrix of k, l: 5.0\n",
      "Dot product matrix of k, l using '@': 5.0 \n",
      "\n",
      "Sum of x's elemnts: 10\n",
      "Sum of x's columns: [4 6]\n",
      "Sum of x's rows: [3 7] \n",
      "\n",
      "x [[1 2]\n",
      " [3 4]]\n",
      "Transpose of x: [[1 3]\n",
      " [2 4]]\n"
     ]
    }
   ],
   "source": [
    "# Array math - \n",
    "\n",
    "print(\"Numpy addition:\", np.add(k, l), \" Normal addition:\", k + l, '\\n')\n",
    "# similar methods - subtract, multiply, divide\n",
    "\n",
    "print(np.sqrt(np.array([2, 3, 4, 5, 6])), '\\n')\n",
    "\n",
    "print(\"Dot product matrix of k, l:\", np.dot(k, l))\n",
    "# '@' operator can also be used for dot product\n",
    "print(\"Dot product matrix of k, l using '@':\", k @ l, '\\n')\n",
    "\n",
    "x = np.array([[1, 2], [3, 4]])\n",
    "print(\"Sum of x's elemnts:\", np.sum(x))\n",
    "print(\"Sum of x's columns:\", np.sum(x, axis = 0))\n",
    "print(\"Sum of x's rows:\", np.sum(x, axis = 1), '\\n')\n",
    "\n",
    "print(\"x\", x)\n",
    "print(\"Transpose of x:\", x.T)"
   ]
  },
  {
   "cell_type": "code",
   "execution_count": 69,
   "id": "italic-adrian",
   "metadata": {},
   "outputs": [
    {
     "name": "stdout",
     "output_type": "stream",
     "text": [
      "[[ 2  2  4]\n",
      " [ 5  5  7]\n",
      " [ 8  8 10]\n",
      " [11 11 13]] \n",
      "\n",
      "[[1 0 1]\n",
      " [1 0 1]\n",
      " [1 0 1]\n",
      " [1 0 1]] \n",
      "\n",
      "Stacking method matrix: [[ 2  2  4]\n",
      " [ 5  5  7]\n",
      " [ 8  8 10]\n",
      " [11 11 13]] \n",
      "\n",
      "Broadcasting method matrix: [[ 2  2  4]\n",
      " [ 5  5  7]\n",
      " [ 8  8 10]\n",
      " [11 11 13]] \n",
      "\n",
      "Iterative method matrix: [[ 2  2  4]\n",
      " [ 5  5  7]\n",
      " [ 8  8 10]\n",
      " [11 11 13]] \n",
      "\n",
      "Adding vector to matrix row's: [[2 4 6]\n",
      " [5 7 9]] \n",
      "\n",
      "Adding vector to matrix column's: [[ 5  6  7]\n",
      " [ 9 10 11]] \n",
      "\n",
      "Adding vector to matrix column's (reshaping): [[ 5  6  7]\n",
      " [ 9 10 11]]\n"
     ]
    }
   ],
   "source": [
    "# Adding v to each row of x\n",
    "\n",
    "x = np.array([[1,2,3], [4,5,6], [7,8,9], [10, 11, 12]])\n",
    "v = np.array([1, 0, 1])\n",
    "y = np.empty_like(x) # creates an empty matrix with the same shape as x\n",
    "\n",
    "for i in range(4):\n",
    "    y[i, :] = x[i, :] + v\n",
    "    \n",
    "print(y, '\\n')\n",
    "\n",
    "# If x large, not ideal.\n",
    "\n",
    "'''\n",
    "Above method equivalent to forming a matrix `vv` by stacking multiple copies of `v` vertically, then performing \n",
    "elementwise summation of `x` and `vv`\n",
    "'''\n",
    "\n",
    "vv = np.tile(v, (4, 1)) #4 stacks of v on top of eachother\n",
    "print(vv, '\\n')\n",
    "\n",
    "print(\"Stacking method matrix:\", x + vv, '\\n')\n",
    "print(\"Broadcasting method matrix:\", x + v, '\\n')\n",
    "\n",
    "'''\n",
    "Subject to certain constraints, the smaller array is “broadcast” across the larger array so that they have compatible shapes\n",
    "'''\n",
    "\n",
    "print(\"Iterative method matrix:\", y, '\\n')\n",
    "\n",
    "# Adding vector to each row of matrix using broadcasting - \n",
    "\n",
    "x = np.array([[1, 2, 3], [4, 5, 6]])\n",
    "v = np.array([1, 2, 3])\n",
    "print(\"Adding vector to matrix row's:\", x + v, '\\n')\n",
    "\n",
    "# Adding vector to each column of matrix using broadcasting - \n",
    "w = np.array([4, 5]) #shape of w (2, ) ; shape of x (2, 3)\n",
    "# Transpose x => shape (3, 2) then broadcast against w. Transpose final result again to get shape (2, 3)\n",
    "print(\"Adding vector to matrix column's:\", (x.T + w).T, '\\n')\n",
    "\n",
    "# Reshape w to (2, 1)\n",
    "print(\"Adding vector to matrix column's (reshaping):\", x + np.reshape(w, (2, 1)))"
   ]
  },
  {
   "cell_type": "code",
   "execution_count": 71,
   "id": "terminal-breakdown",
   "metadata": {},
   "outputs": [
    {
     "name": "stdout",
     "output_type": "stream",
     "text": [
      "Outer product: [[ 4  5]\n",
      " [ 8 10]\n",
      " [12 15]]\n"
     ]
    }
   ],
   "source": [
    "# Outer product of vectors\n",
    "\n",
    "v = np.array([1, 2, 3]) # convert v to a column and multiply w\n",
    "w = np.array([4, 5])\n",
    "print(\"Outer product:\", w * np.reshape(v, (3, 1)))"
   ]
  },
  {
   "cell_type": "code",
   "execution_count": 72,
   "id": "veterinary-drama",
   "metadata": {},
   "outputs": [
    {
     "name": "stdout",
     "output_type": "stream",
     "text": [
      "Numpy docs: https://numpy.org/doc/stable/reference/\n"
     ]
    }
   ],
   "source": [
    "print(\"Numpy docs: \" + 'https://numpy.org/doc/stable/reference/')"
   ]
  },
  {
   "cell_type": "code",
   "execution_count": null,
   "id": "varied-composition",
   "metadata": {},
   "outputs": [],
   "source": []
  }
 ],
 "metadata": {
  "kernelspec": {
   "display_name": "Python 3",
   "language": "python",
   "name": "python3"
  },
  "language_info": {
   "codemirror_mode": {
    "name": "ipython",
    "version": 3
   },
   "file_extension": ".py",
   "mimetype": "text/x-python",
   "name": "python",
   "nbconvert_exporter": "python",
   "pygments_lexer": "ipython3",
   "version": "3.9.1"
  }
 },
 "nbformat": 4,
 "nbformat_minor": 5
}
