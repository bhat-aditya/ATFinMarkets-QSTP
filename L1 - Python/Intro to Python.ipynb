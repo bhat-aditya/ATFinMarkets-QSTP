{
 "cells": [
  {
   "cell_type": "code",
   "execution_count": 1,
   "id": "radical-mixer",
   "metadata": {},
   "outputs": [
    {
     "name": "stdout",
     "output_type": "stream",
     "text": [
      "Python 3.9.1\n",
      "pip 21.1.3 from c:\\users\\aditya\\appdata\\local\\programs\\python\\python39\\lib\\site-packages\\pip (python 3.9)\n",
      "\n"
     ]
    }
   ],
   "source": [
    "!python --version\n",
    "!pip --version"
   ]
  },
  {
   "cell_type": "code",
   "execution_count": 3,
   "id": "incorporate-nutrition",
   "metadata": {},
   "outputs": [
    {
     "name": "stdout",
     "output_type": "stream",
     "text": [
      "Integer data type-\n",
      "\n",
      "5 <class 'int'> \n",
      "\n",
      "Float data type and basic operations-\n",
      "\n",
      "5.5 <class 'float'> \n",
      "\n",
      "Addition: 6.5\n",
      "Subtraction: 4.5\n",
      "Multiplication: 11.0\n",
      "Exponentiation: 30.25\n",
      "Remainder: 1.5\n",
      "Quotient: 2.75\n",
      "Floored quotient: 2.0 \n",
      "\n",
      "Basic math operations using math module-\n",
      "\n",
      "Truncating z to int : 6\n",
      "Rounding z : 7\n",
      "Greatest Integral <= z : 6\n",
      "Least Integral >= z : 7 \n",
      "\n",
      "For more information, visit: https://docs.python.org/3.7/library/stdtypes.html#numeric-types-int-float-complex\n"
     ]
    }
   ],
   "source": [
    "# Data Types - Numeric\n",
    "\n",
    "print(\"Integer data type-\\n\")\n",
    "x = 5\n",
    "print(x, type(x), '\\n')\n",
    "\n",
    "print(\"Float data type and basic operations-\\n\")\n",
    "y = 5.5\n",
    "print(y, type(y), '\\n')\n",
    "\n",
    "print(\"Addition:\", y + 1)\n",
    "print(\"Subtraction:\", y - 1)\n",
    "print(\"Multiplication:\", y * 2)\n",
    "print(\"Exponentiation:\", y ** 2)\n",
    "print(\"Remainder:\", y % 2)\n",
    "print(\"Quotient:\", y / 2)\n",
    "print(\"Floored quotient:\", y // 2, '\\n')\n",
    "\n",
    "import math\n",
    "\n",
    "print(\"Basic math operations using math module-\\n\")\n",
    "\n",
    "z = 6.55\n",
    "print(\"Truncating z to int :\", math.trunc(z))\n",
    "print(\"Rounding z :\", round(z))\n",
    "print(\"Greatest Integral <= z :\", math.floor(z))\n",
    "print(\"Least Integral >= z :\", math.ceil(z), '\\n')\n",
    "\n",
    "print(\"For more information, visit: \" + 'https://docs.python.org/3.7/library/stdtypes.html#numeric-types-int-float-complex')\n",
    "\n",
    "# unlike other languages, python does't support unary increment (x++) and decrement (x--) operators"
   ]
  },
  {
   "cell_type": "code",
   "execution_count": 5,
   "id": "bridal-hayes",
   "metadata": {},
   "outputs": [
    {
     "name": "stdout",
     "output_type": "stream",
     "text": [
      "True <class 'bool'> \n",
      "\n",
      "Logical AND: False\n",
      "Logical OR: True\n",
      "Logical NOT: False\n",
      "Logical XOR: True\n",
      "For more information, visit: https://docs.python.org/3.7/library/stdtypes.html#boolean-operations-and-or-not\n"
     ]
    }
   ],
   "source": [
    "# Data Types - Boolean\n",
    "\n",
    "t, f = True, False\n",
    "print(t, type(t), '\\n')\n",
    "\n",
    "print(\"Logical AND:\", t and f)\n",
    "print(\"Logical OR:\", t or f)\n",
    "print(\"Logical NOT:\", not t)\n",
    "print(\"Logical XOR:\", t != f)\n",
    "\n",
    "print(\"For more information, visit: \" + 'https://docs.python.org/3.7/library/stdtypes.html#boolean-operations-and-or-not')"
   ]
  },
  {
   "cell_type": "code",
   "execution_count": 7,
   "id": "allied-barbados",
   "metadata": {},
   "outputs": [
    {
     "name": "stdout",
     "output_type": "stream",
     "text": [
      "String literals can be initialised using single or double quotes  Length:  64 \n",
      "\n",
      "Sting concatenation:  string concat\n",
      "string is a string, format is a string and 25 is an int \n",
      "\n",
      "To uppercase: HELLO\n",
      "Replacing part of string with substring: he(ell)(ell)o\n",
      "Stripping whitespace: world\n",
      "Tab expansion: 01      012     0123    01234\n",
      "Splitting on occurance of comma: ['1', '2', '3', '4', '5'] \n",
      "\n",
      "For more information, visit: https://docs.python.org/3.7/library/stdtypes.html#text-sequence-type-str\n"
     ]
    }
   ],
   "source": [
    "# Data Types - String\n",
    "\n",
    "message = \"String literals can be initialised using single or double quotes\"\n",
    "print(message, \" Length: \", len(message), '\\n')\n",
    "\n",
    "a = 'string'\n",
    "b = 'concat'\n",
    "print('Sting concatenation: ', a + ' ' + b)\n",
    "\n",
    "stringformat = '{} is a string, {} is a string and {} is an int'.format(a, 'format', 25)\n",
    "print(stringformat, '\\n')\n",
    "\n",
    "#Some string methods - \n",
    "\n",
    "s = \"hello\"\n",
    "print(\"To uppercase:\", s.upper())\n",
    "print(\"Replacing part of string with substring:\", s.replace('l', '(ell)'))\n",
    "print(\"Stripping whitespace:\", ' world '.strip())\n",
    "print(\"Tab expansion:\", '01\\t012\\t0123\\t01234'.expandtabs())\n",
    "\n",
    "csv = '1,2,3,4,5'\n",
    "print(\"Splitting on occurance of comma:\", csv.split(sep = ','), '\\n')\n",
    "\n",
    "print(\"For more information, visit: \" + 'https://docs.python.org/3.7/library/stdtypes.html#text-sequence-type-str')"
   ]
  },
  {
   "cell_type": "code",
   "execution_count": 8,
   "id": "boxed-navigation",
   "metadata": {},
   "outputs": [
    {
     "name": "stdout",
     "output_type": "stream",
     "text": [
      "[1, 2, 3, 4, 5] 1 \n",
      "\n",
      "Looping list x\n",
      "1\n",
      "2\n",
      "3\n",
      "4\n",
      "5\n",
      "Loop #1 : 1\n",
      "Loop #2 : 2\n",
      "Loop #3 : 3\n",
      "Loop #4 : 4\n",
      "Loop #5 : 5\n",
      "\n",
      "Printing the last element: 5 \n",
      "\n",
      "[1, 'two', 3, 4, 5]\n",
      "[1, 'two', 3, 4, 5, 'six']\n",
      "[1, 'two', 3, 4, 5] six \n",
      "\n",
      "[0, 1, 2, 3, 4]\n",
      "Slice from index 2 (inclusive) to 4 (exclusive) [2, 3]\n",
      "Slice from index 2 to end of list [2, 3, 4]\n",
      "Slice from start unitl index 2 (exclusive) [0, 1]\n",
      "Slice of entire list [0, 1, 2, 3, 4]\n",
      "Slice of list until last element [0, 1, 2, 3]\n",
      "[0, 1, 8, 9, 4] \n",
      "\n",
      "List comprehension: [0, 1, 64, 81, 16]\n",
      "Conditional list comprehension: [0, 64, 16] \n",
      "\n",
      "For more information, visit: https://docs.python.org/3.7/library/stdtypes.html#sequence-types-list-tuple-range\n"
     ]
    }
   ],
   "source": [
    "# Data Types - Containers\n",
    "# Lists (Python equivalent of arrays, resizable and can contain elements of different types)\n",
    "\n",
    "x = [1, 2, 3, 4, 5]\n",
    "print(x, x[0], '\\n')\n",
    "\n",
    "print(\"Looping list x\")\n",
    "for item in x:\n",
    "    print(item)\n",
    "    \n",
    "# To access index of element while looping, use enumerate\n",
    "for index, element in enumerate(x):\n",
    "    print('{}{} : {}'.format('Loop #', index + 1, element))\n",
    "\n",
    "\n",
    "# Negative indices count from the end of the list\n",
    "print('\\nPrinting the last element:', x[-1], '\\n')\n",
    "\n",
    "x[1] = 'two'\n",
    "print(x)\n",
    "\n",
    "x.append('six')\n",
    "print(x)\n",
    "\n",
    "# Remove and return the last element of the list\n",
    "x1 = x.pop()\n",
    "print(x, x1, '\\n')\n",
    "\n",
    "'''\n",
    "multi-line comments\n",
    "'''\n",
    "\n",
    "\n",
    "# Slicing -\n",
    "nums = list(range(5))\n",
    "# [0, 1, 2, 3, 4]\n",
    "print(nums)\n",
    "print(\"Slice from index 2 (inclusive) to 4 (exclusive)\", nums[2:4])\n",
    "print(\"Slice from index 2 to end of list\", nums[2:])\n",
    "print(\"Slice from start unitl index 2 (exclusive)\", nums[:2])\n",
    "print(\"Slice of entire list\", nums[:])\n",
    "print(\"Slice of list until last element\", nums[:-1])\n",
    "nums[2:4] = [8, 9]\n",
    "print(nums, '\\n')\n",
    "\n",
    "# List comprehensions - \n",
    "\n",
    "squares = [x ** 2 for x in nums]\n",
    "print(\"List comprehension:\", squares)\n",
    "\n",
    "even_squares = [x ** 2 for x in nums if x%2 == 0]\n",
    "print(\"Conditional list comprehension:\", even_squares, '\\n')\n",
    "\n",
    "print(\"For more information, visit: \" + 'https://docs.python.org/3.7/library/stdtypes.html#sequence-types-list-tuple-range')"
   ]
  },
  {
   "cell_type": "code",
   "execution_count": 9,
   "id": "informational-islam",
   "metadata": {},
   "outputs": [
    {
     "name": "stdout",
     "output_type": "stream",
     "text": [
      "Rap\n",
      "Boolean result: True\n",
      "Getting value for key - Adele : Pop\n",
      "Getting value for key - U2 : N/A\n",
      "Getting value for key - Adele : N/A\n",
      "\n",
      "Iterating through key, value pairs of dictionary\n",
      "Math subject has 10 chapters\n",
      "English subject has 15 chapters\n",
      "SST subject has 20 chapters\n",
      "\n",
      "{0: 0, 8: 64, 4: 16}\n"
     ]
    }
   ],
   "source": [
    "# Dictionaries\n",
    "\n",
    "artists = {\n",
    "    'Drake' : 'Rap',\n",
    "    'Miley Cyrus' :'Pop / Country'\n",
    "}\n",
    "\n",
    "print(artists['Drake'])\n",
    "print(\"Boolean result:\", 'Miley Cyrus' in artists)\n",
    "\n",
    "artists['Adele'] = 'Pop'\n",
    "\n",
    "# Default value can be set while obtaining value for particular keys in a dictionary\n",
    "print(\"Getting value for key - Adele :\", artists.get('Adele', 'N/A'))\n",
    "print(\"Getting value for key - U2 :\", artists.get('U2', 'N/A'))\n",
    "\n",
    "del artists['Adele']\n",
    "print(\"Getting value for key - Adele :\", artists.get('Adele', 'N/A'))\n",
    "\n",
    "chapters = {\n",
    "    'Math' : 10,\n",
    "    'English' : 15,\n",
    "    'SST' : 20\n",
    "}\n",
    "\n",
    "print(\"\\nIterating through key, value pairs of dictionary\")\n",
    "for subject, number in chapters.items():\n",
    "    print('{} subject has {} chapters'.format(subject, number))\n",
    "print()\n",
    "\n",
    "# Dictionary comprehensions\n",
    "even_squares_dict = {x: x ** 2 for x in nums if x % 2 == 0}\n",
    "print(even_squares_dict)"
   ]
  },
  {
   "cell_type": "code",
   "execution_count": 10,
   "id": "limiting-reasoning",
   "metadata": {},
   "outputs": [
    {
     "name": "stdout",
     "output_type": "stream",
     "text": [
      "Boolean result for Cello: True\n",
      "Boolean result for Luxor: False\n",
      "Length of set: 5\n",
      "Length of set: 4\n",
      "\n",
      "Looping through pens\n",
      "1. Montblanc\n",
      "2. Reynolds\n",
      "3. Cello\n",
      "4. Pierre Cardin\n",
      "\n",
      "{0, 1, 2, 3, 4, 5}\n"
     ]
    }
   ],
   "source": [
    "# Sets (unordered collection of distinct elements)\n",
    "\n",
    "pens = {'Cello', 'Reynolds', 'Pierre Cardin', 'Montblanc'}\n",
    "\n",
    "print(\"Boolean result for Cello:\", 'Cello' in pens)\n",
    "print(\"Boolean result for Luxor:\", 'Luxor' in pens)\n",
    "\n",
    "pens.add('Luxor')\n",
    "print(\"Length of set:\", len(pens))\n",
    "pens.remove('Luxor')\n",
    "print(\"Length of set:\", len(pens))\n",
    "\n",
    "print('\\nLooping through pens')\n",
    "for index, pen in enumerate(pens):\n",
    "    print('{}. {}'.format(index + 1, pen))\n",
    "print()\n",
    "    \n",
    "# Set comprehensions \n",
    "print({int(math.sqrt(x)) for x in range(30)})"
   ]
  },
  {
   "cell_type": "code",
   "execution_count": 11,
   "id": "polyphonic-canyon",
   "metadata": {},
   "outputs": [
    {
     "name": "stdout",
     "output_type": "stream",
     "text": [
      "{(0, 1): 0, (1, 2): 1, (2, 3): 2, (3, 4): 3, (4, 5): 4, (5, 6): 5, (6, 7): 6, (7, 8): 7, (8, 9): 8, (9, 10): 9} \n",
      "\n",
      "(5, 6) <class 'tuple'>\n",
      "5\n"
     ]
    }
   ],
   "source": [
    "# Tuples (used mainly for dictionary keys, lists can't be used as dictionary keys)\n",
    "\n",
    "# Dictionary with tuple keys -\n",
    "\n",
    "tuple_dict = {(x, x + 1): x for x in range(10)}\n",
    "print(tuple_dict, '\\n')\n",
    "\n",
    "t = (5, 6)\n",
    "print(t, type(t))\n",
    "print(tuple_dict[t])"
   ]
  },
  {
   "cell_type": "code",
   "execution_count": 12,
   "id": "lasting-toner",
   "metadata": {},
   "outputs": [
    {
     "name": "stdout",
     "output_type": "stream",
     "text": [
      "3\n",
      "NaN\n"
     ]
    }
   ],
   "source": [
    "# Functions\n",
    "\n",
    "def add(x, y):\n",
    "    return (x + y)\n",
    "\n",
    "print(add(1, 2))\n",
    "\n",
    "# Nested functions\n",
    "\n",
    "def addwithcheck(x, y):\n",
    "    \n",
    "    def check(x, y):\n",
    "        types = ['int', 'str']\n",
    "        \n",
    "        if ((type(x) in types) and (type(y) in types)):\n",
    "            return True\n",
    "        else:\n",
    "            return False\n",
    "        \n",
    "    if check(x, y) == False:\n",
    "        return ('NaN')\n",
    "    \n",
    "    return (x + y)\n",
    "    \n",
    "print(addwithcheck(1, 'qwerty'))"
   ]
  },
  {
   "cell_type": "code",
   "execution_count": null,
   "id": "forward-playlist",
   "metadata": {},
   "outputs": [],
   "source": []
  }
 ],
 "metadata": {
  "kernelspec": {
   "display_name": "Python 3",
   "language": "python",
   "name": "python3"
  },
  "language_info": {
   "codemirror_mode": {
    "name": "ipython",
    "version": 3
   },
   "file_extension": ".py",
   "mimetype": "text/x-python",
   "name": "python",
   "nbconvert_exporter": "python",
   "pygments_lexer": "ipython3",
   "version": "3.9.1"
  }
 },
 "nbformat": 4,
 "nbformat_minor": 5
}
